{
 "cells": [
  {
   "cell_type": "code",
   "execution_count": 37,
   "id": "0c31688e",
   "metadata": {},
   "outputs": [],
   "source": [
    "import pandas as pd\n",
    "import matplotlib.pyplot as plt\n",
    "from sklearn.linear_model import LinearRegression\n",
    "import numpy as np"
   ]
  },
  {
   "cell_type": "code",
   "execution_count": 15,
   "id": "9e4cb233",
   "metadata": {},
   "outputs": [],
   "source": [
    "df = pd.read_csv('companies_10-k - Sheet3.csv')"
   ]
  },
  {
   "cell_type": "markdown",
   "id": "1e82edfb",
   "metadata": {},
   "source": [
    "Financial Metric"
   ]
  },
  {
   "cell_type": "code",
   "execution_count": 20,
   "id": "c87a889c",
   "metadata": {},
   "outputs": [],
   "source": [
    "# Calculate YoY growth for each financial metric\n",
    "metrics = [\"Total Revenue\", \"Net Income\", \"Total Assets\", \"Total Liabilities\", \"Cash Flow from Operations\"]\n",
    "for metric in metrics:\n",
    "    df[f\"{metric} Growth (%)\"] = df.groupby(\"Company\")[metric].pct_change() * 100"
   ]
  },
  {
   "cell_type": "markdown",
   "id": "3b388831",
   "metadata": {},
   "source": [
    "Profit Margin (%)"
   ]
  },
  {
   "cell_type": "code",
   "execution_count": 22,
   "id": "c6f254d0",
   "metadata": {},
   "outputs": [],
   "source": [
    "df[\"Profit Margin (%)\"] = (df[\"Net Income\"] / df[\"Total Revenue\"]) * 100"
   ]
  },
  {
   "cell_type": "markdown",
   "id": "8d7fa77d",
   "metadata": {},
   "source": [
    "Return on Assets (ROA) (%)"
   ]
  },
  {
   "cell_type": "code",
   "execution_count": 24,
   "id": "fd737c28",
   "metadata": {},
   "outputs": [],
   "source": [
    "df[\"ROA (%)\"] = (df[\"Net Income\"] / df[\"Total Assets\"]) * 100"
   ]
  },
  {
   "cell_type": "markdown",
   "id": "df8eda73",
   "metadata": {},
   "source": [
    "Return on Equity (ROE) (%)"
   ]
  },
  {
   "cell_type": "code",
   "execution_count": 25,
   "id": "46a14120",
   "metadata": {},
   "outputs": [],
   "source": [
    "df[\"ROE (%)\"] = (df[\"Net Income\"] / (df[\"Total Assets\"] - df[\"Total Liabilities\"])) * 100"
   ]
  },
  {
   "cell_type": "markdown",
   "id": "3cb7c869",
   "metadata": {},
   "source": [
    "Debt-to-Asset Ratio"
   ]
  },
  {
   "cell_type": "code",
   "execution_count": 26,
   "id": "bedcbe93",
   "metadata": {},
   "outputs": [],
   "source": [
    "df[\"Debt-to-Asset Ratio\"] = df[\"Total Liabilities\"] / df[\"Total Assets\"]"
   ]
  },
  {
   "cell_type": "markdown",
   "id": "57bc0326",
   "metadata": {},
   "source": [
    "Debt-to-Equity Ratio"
   ]
  },
  {
   "cell_type": "code",
   "execution_count": 27,
   "id": "e59dd0cc",
   "metadata": {},
   "outputs": [],
   "source": [
    "df[\"Debt-to-Equity Ratio\"] = df[\"Total Liabilities\"] / (df[\"Total Assets\"] - df[\"Total Liabilities\"])"
   ]
  },
  {
   "cell_type": "markdown",
   "id": "77f698ea",
   "metadata": {},
   "source": [
    "Operating Efficiency Trends"
   ]
  },
  {
   "cell_type": "code",
   "execution_count": 29,
   "id": "89d35780",
   "metadata": {},
   "outputs": [],
   "source": [
    "df[\"Cash Flow to Revenue Ratio\"] = df[\"Cash Flow from Operations\"] / df[\"Total Revenue\"]"
   ]
  },
  {
   "cell_type": "markdown",
   "id": "fbafbee3",
   "metadata": {},
   "source": [
    "Ranking Companies by Financial Performance"
   ]
  },
  {
   "cell_type": "code",
   "execution_count": 32,
   "id": "7dffe7a9",
   "metadata": {},
   "outputs": [],
   "source": [
    "df[\"Revenue Rank\"] = df.groupby(\"Year\")[\"Total Revenue\"].rank(ascending=False)\n",
    "df[\"Profit Rank\"] = df.groupby(\"Year\")[\"Net Income\"].rank(ascending=False)\n",
    "df[\"Assets Rank\"] = df.groupby(\"Year\")[\"Total Assets\"].rank(ascending=False)"
   ]
  },
  {
   "cell_type": "markdown",
   "id": "c5f46d7b",
   "metadata": {},
   "source": [
    "Best & Worst Performing Years per Company"
   ]
  },
  {
   "cell_type": "code",
   "execution_count": 33,
   "id": "3a6898de",
   "metadata": {},
   "outputs": [
    {
     "name": "stdout",
     "output_type": "stream",
     "text": [
      "Best Years:\n",
      "      Company  Year  Total Revenue  Net Income  Total Assets  \\\n",
      "1      Apple  2023         394328       96995        352583   \n",
      "5  Microsoft  2024         245122       88136        512163   \n",
      "8      Tesla  2024          97690        7153        122070   \n",
      "\n",
      "   Cash Flow from Operations  Total Liabilities  Revenue Growth (%)  \\\n",
      "1                     110543             290437            7.793788   \n",
      "5                     118548             243686           15.669962   \n",
      "8                      14923              48390            0.947578   \n",
      "\n",
      "   Net Income Growth (%)  Total Revenue Growth (%)  ...  Profit Margin (%)  \\\n",
      "1              -2.813543                  7.793788  ...          24.597543   \n",
      "5              21.800417                 15.669962  ...          35.955973   \n",
      "8             -52.230533                  0.947578  ...           7.322141   \n",
      "\n",
      "     ROA (%)     ROE (%)  Debt-to-Asset Ratio  Debt-to-Equity Ratio  \\\n",
      "1  27.509835  156.076015             0.823741              4.673462   \n",
      "5  17.208584   32.828138             0.475798              0.907661   \n",
      "8   5.859753    9.708198             0.396412              0.656759   \n",
      "\n",
      "   Market Share (%)  Cash Flow to Revenue Ratio  Revenue Rank  Profit Rank  \\\n",
      "1         56.090900                    0.280333           1.0          1.0   \n",
      "5         33.758850                    0.483629           2.0          2.0   \n",
      "8         13.454125                    0.152759           3.0          3.0   \n",
      "\n",
      "   Assets Rank  \n",
      "1          2.0  \n",
      "5          1.0  \n",
      "8          3.0  \n",
      "\n",
      "[3 rows x 23 columns]\n",
      "\n",
      "Worst Years:\n",
      "      Company  Year  Total Revenue  Net Income  Total Assets  \\\n",
      "0      Apple  2022         365817       99803        352755   \n",
      "3  Microsoft  2022         198270       72738        364840   \n",
      "6      Tesla  2022          81462       12587         82338   \n",
      "\n",
      "   Cash Flow from Operations  Total Liabilities  Revenue Growth (%)  \\\n",
      "0                     122151             302083                 NaN   \n",
      "3                      89035             198298                 NaN   \n",
      "6                      14724              36440                 NaN   \n",
      "\n",
      "   Net Income Growth (%)  Total Revenue Growth (%)  ...  Profit Margin (%)  \\\n",
      "0                    NaN                       NaN  ...          27.282220   \n",
      "3                    NaN                       NaN  ...          36.686337   \n",
      "6                    NaN                       NaN  ...          15.451376   \n",
      "\n",
      "     ROA (%)     ROE (%)  Debt-to-Asset Ratio  Debt-to-Equity Ratio  \\\n",
      "0  28.292441  196.958873             0.856354              5.961537   \n",
      "3  19.936959   43.675469             0.543520              1.190679   \n",
      "6  15.286988   27.423853             0.442566              0.793934   \n",
      "\n",
      "   Market Share (%)  Cash Flow to Revenue Ratio  Revenue Rank  Profit Rank  \\\n",
      "0         56.667581                    0.333913           1.0          1.0   \n",
      "3         30.713393                    0.449059           2.0          2.0   \n",
      "6         12.619027                    0.180747           3.0          3.0   \n",
      "\n",
      "   Assets Rank  \n",
      "0          2.0  \n",
      "3          1.0  \n",
      "6          3.0  \n",
      "\n",
      "[3 rows x 23 columns]\n"
     ]
    }
   ],
   "source": [
    "best_years = df.loc[df.groupby(\"Company\")[\"Total Revenue\"].idxmax()]\n",
    "worst_years = df.loc[df.groupby(\"Company\")[\"Total Revenue\"].idxmin()]\n",
    "\n",
    "print(\"Best Years:\\n\", best_years)\n",
    "print(\"\\nWorst Years:\\n\", worst_years)"
   ]
  },
  {
   "cell_type": "markdown",
   "id": "422e1697",
   "metadata": {},
   "source": [
    "Trend Analysis of Financial Metrics"
   ]
  },
  {
   "cell_type": "code",
   "execution_count": 35,
   "id": "496ef37e",
   "metadata": {},
   "outputs": [
    {
     "data": {
      "image/png": "[encoded data removed]",
      "text/plain": [
       "<Figure size 1000x500 with 1 Axes>"
      ]
     },
     "metadata": {},
     "output_type": "display_data"
    }
   ],
   "source": [
    "plt.figure(figsize=(10, 5))\n",
    "for company in df[\"Company\"].unique():\n",
    "    subset = df[df[\"Company\"] == company]\n",
    "    plt.plot(subset[\"Year\"], subset[\"Total Revenue\"], marker='o', label=company)\n",
    "\n",
    "plt.xlabel(\"Year\")\n",
    "plt.ylabel(\"Total Revenue ($M)\")\n",
    "plt.title(\"Total Revenue Trends Over Time\")\n",
    "plt.legend()\n",
    "plt.show()"
   ]
  },
  {
   "cell_type": "markdown",
   "id": "32e920b8",
   "metadata": {},
   "source": [
    "Forecasting Future Financial Metrics (Using Linear Regression)"
   ]
  },
  {
   "cell_type": "code",
   "execution_count": 38,
   "id": "d7572ca3",
   "metadata": {},
   "outputs": [
    {
     "name": "stdout",
     "output_type": "stream",
     "text": [
      "Predicted Revenue for Apple:\n",
      " [[398611.33333333]\n",
      " [407345.33333333]\n",
      " [416079.33333333]]\n"
     ]
    }
   ],
   "source": [
    "df_forecast = df[df[\"Company\"] == \"Apple\"]  # Choose a company\n",
    "X = df_forecast[\"Year\"].values.reshape(-1, 1)\n",
    "y = df_forecast[\"Total Revenue\"].values.reshape(-1, 1)\n",
    "\n",
    "model = LinearRegression()\n",
    "model.fit(X, y)\n",
    "\n",
    "future_years = np.array([[2025], [2026], [2027]])  # Predict for future years\n",
    "predictions = model.predict(future_years)\n",
    "\n",
    "print(\"Predicted Revenue for Apple:\\n\", predictions)"
   ]
  },
  {
   "cell_type": "code",
   "execution_count": 39,
   "id": "1c155df5",
   "metadata": {},
   "outputs": [
    {
     "data": {
      "text/html": [
       "<div>\n",
       "<style scoped>\n",
       "    .dataframe tbody tr th:only-of-type {\n",
       "        vertical-align: middle;\n",
       "    }\n",
       "\n",
       "    .dataframe tbody tr th {\n",
       "        vertical-align: top;\n",
       "    }\n",
       "\n",
       "    .dataframe thead th {\n",
       "        text-align: right;\n",
       "    }\n",
       "</style>\n",
       "<table border=\"1\" class=\"dataframe\">\n",
       "  <thead>\n",
       "    <tr style=\"text-align: right;\">\n",
       "      <th></th>\n",
       "      <th>Company</th>\n",
       "      <th>Year</th>\n",
       "      <th>Total Revenue</th>\n",
       "      <th>Net Income</th>\n",
       "      <th>Total Assets</th>\n",
       "      <th>Cash Flow from Operations</th>\n",
       "      <th>Total Liabilities</th>\n",
       "      <th>Revenue Growth (%)</th>\n",
       "      <th>Net Income Growth (%)</th>\n",
       "      <th>Total Revenue Growth (%)</th>\n",
       "      <th>...</th>\n",
       "      <th>Profit Margin (%)</th>\n",
       "      <th>ROA (%)</th>\n",
       "      <th>ROE (%)</th>\n",
       "      <th>Debt-to-Asset Ratio</th>\n",
       "      <th>Debt-to-Equity Ratio</th>\n",
       "      <th>Market Share (%)</th>\n",
       "      <th>Cash Flow to Revenue Ratio</th>\n",
       "      <th>Revenue Rank</th>\n",
       "      <th>Profit Rank</th>\n",
       "      <th>Assets Rank</th>\n",
       "    </tr>\n",
       "  </thead>\n",
       "  <tbody>\n",
       "    <tr>\n",
       "      <th>0</th>\n",
       "      <td>Apple</td>\n",
       "      <td>2022</td>\n",
       "      <td>365817</td>\n",
       "      <td>99803</td>\n",
       "      <td>352755</td>\n",
       "      <td>122151</td>\n",
       "      <td>302083</td>\n",
       "      <td>NaN</td>\n",
       "      <td>NaN</td>\n",
       "      <td>NaN</td>\n",
       "      <td>...</td>\n",
       "      <td>27.282220</td>\n",
       "      <td>28.292441</td>\n",
       "      <td>196.958873</td>\n",
       "      <td>0.856354</td>\n",
       "      <td>5.961537</td>\n",
       "      <td>56.667581</td>\n",
       "      <td>0.333913</td>\n",
       "      <td>1.0</td>\n",
       "      <td>1.0</td>\n",
       "      <td>2.0</td>\n",
       "    </tr>\n",
       "    <tr>\n",
       "      <th>1</th>\n",
       "      <td>Apple</td>\n",
       "      <td>2023</td>\n",
       "      <td>394328</td>\n",
       "      <td>96995</td>\n",
       "      <td>352583</td>\n",
       "      <td>110543</td>\n",
       "      <td>290437</td>\n",
       "      <td>7.793788</td>\n",
       "      <td>-2.813543</td>\n",
       "      <td>7.793788</td>\n",
       "      <td>...</td>\n",
       "      <td>24.597543</td>\n",
       "      <td>27.509835</td>\n",
       "      <td>156.076015</td>\n",
       "      <td>0.823741</td>\n",
       "      <td>4.673462</td>\n",
       "      <td>56.090900</td>\n",
       "      <td>0.280333</td>\n",
       "      <td>1.0</td>\n",
       "      <td>1.0</td>\n",
       "      <td>2.0</td>\n",
       "    </tr>\n",
       "    <tr>\n",
       "      <th>2</th>\n",
       "      <td>Apple</td>\n",
       "      <td>2024</td>\n",
       "      <td>383285</td>\n",
       "      <td>93736</td>\n",
       "      <td>364980</td>\n",
       "      <td>118254</td>\n",
       "      <td>308030</td>\n",
       "      <td>-2.800461</td>\n",
       "      <td>-3.359967</td>\n",
       "      <td>-2.800461</td>\n",
       "      <td>...</td>\n",
       "      <td>24.455953</td>\n",
       "      <td>25.682503</td>\n",
       "      <td>164.593503</td>\n",
       "      <td>0.843964</td>\n",
       "      <td>5.408780</td>\n",
       "      <td>52.787024</td>\n",
       "      <td>0.308528</td>\n",
       "      <td>1.0</td>\n",
       "      <td>1.0</td>\n",
       "      <td>2.0</td>\n",
       "    </tr>\n",
       "    <tr>\n",
       "      <th>3</th>\n",
       "      <td>Microsoft</td>\n",
       "      <td>2022</td>\n",
       "      <td>198270</td>\n",
       "      <td>72738</td>\n",
       "      <td>364840</td>\n",
       "      <td>89035</td>\n",
       "      <td>198298</td>\n",
       "      <td>NaN</td>\n",
       "      <td>NaN</td>\n",
       "      <td>NaN</td>\n",
       "      <td>...</td>\n",
       "      <td>36.686337</td>\n",
       "      <td>19.936959</td>\n",
       "      <td>43.675469</td>\n",
       "      <td>0.543520</td>\n",
       "      <td>1.190679</td>\n",
       "      <td>30.713393</td>\n",
       "      <td>0.449059</td>\n",
       "      <td>2.0</td>\n",
       "      <td>2.0</td>\n",
       "      <td>1.0</td>\n",
       "    </tr>\n",
       "    <tr>\n",
       "      <th>4</th>\n",
       "      <td>Microsoft</td>\n",
       "      <td>2023</td>\n",
       "      <td>211915</td>\n",
       "      <td>72361</td>\n",
       "      <td>411976</td>\n",
       "      <td>87582</td>\n",
       "      <td>205753</td>\n",
       "      <td>6.882030</td>\n",
       "      <td>-0.518299</td>\n",
       "      <td>6.882030</td>\n",
       "      <td>...</td>\n",
       "      <td>34.146238</td>\n",
       "      <td>17.564373</td>\n",
       "      <td>35.088715</td>\n",
       "      <td>0.499430</td>\n",
       "      <td>0.997721</td>\n",
       "      <td>30.143695</td>\n",
       "      <td>0.413288</td>\n",
       "      <td>2.0</td>\n",
       "      <td>2.0</td>\n",
       "      <td>1.0</td>\n",
       "    </tr>\n",
       "    <tr>\n",
       "      <th>5</th>\n",
       "      <td>Microsoft</td>\n",
       "      <td>2024</td>\n",
       "      <td>245122</td>\n",
       "      <td>88136</td>\n",
       "      <td>512163</td>\n",
       "      <td>118548</td>\n",
       "      <td>243686</td>\n",
       "      <td>15.669962</td>\n",
       "      <td>21.800417</td>\n",
       "      <td>15.669962</td>\n",
       "      <td>...</td>\n",
       "      <td>35.955973</td>\n",
       "      <td>17.208584</td>\n",
       "      <td>32.828138</td>\n",
       "      <td>0.475798</td>\n",
       "      <td>0.907661</td>\n",
       "      <td>33.758850</td>\n",
       "      <td>0.483629</td>\n",
       "      <td>2.0</td>\n",
       "      <td>2.0</td>\n",
       "      <td>1.0</td>\n",
       "    </tr>\n",
       "    <tr>\n",
       "      <th>6</th>\n",
       "      <td>Tesla</td>\n",
       "      <td>2022</td>\n",
       "      <td>81462</td>\n",
       "      <td>12587</td>\n",
       "      <td>82338</td>\n",
       "      <td>14724</td>\n",
       "      <td>36440</td>\n",
       "      <td>NaN</td>\n",
       "      <td>NaN</td>\n",
       "      <td>NaN</td>\n",
       "      <td>...</td>\n",
       "      <td>15.451376</td>\n",
       "      <td>15.286988</td>\n",
       "      <td>27.423853</td>\n",
       "      <td>0.442566</td>\n",
       "      <td>0.793934</td>\n",
       "      <td>12.619027</td>\n",
       "      <td>0.180747</td>\n",
       "      <td>3.0</td>\n",
       "      <td>3.0</td>\n",
       "      <td>3.0</td>\n",
       "    </tr>\n",
       "    <tr>\n",
       "      <th>7</th>\n",
       "      <td>Tesla</td>\n",
       "      <td>2023</td>\n",
       "      <td>96773</td>\n",
       "      <td>14974</td>\n",
       "      <td>106618</td>\n",
       "      <td>13256</td>\n",
       "      <td>43009</td>\n",
       "      <td>18.795267</td>\n",
       "      <td>18.964010</td>\n",
       "      <td>18.795267</td>\n",
       "      <td>...</td>\n",
       "      <td>15.473324</td>\n",
       "      <td>14.044533</td>\n",
       "      <td>23.540694</td>\n",
       "      <td>0.403393</td>\n",
       "      <td>0.676146</td>\n",
       "      <td>13.765405</td>\n",
       "      <td>0.136980</td>\n",
       "      <td>3.0</td>\n",
       "      <td>3.0</td>\n",
       "      <td>3.0</td>\n",
       "    </tr>\n",
       "    <tr>\n",
       "      <th>8</th>\n",
       "      <td>Tesla</td>\n",
       "      <td>2024</td>\n",
       "      <td>97690</td>\n",
       "      <td>7153</td>\n",
       "      <td>122070</td>\n",
       "      <td>14923</td>\n",
       "      <td>48390</td>\n",
       "      <td>0.947578</td>\n",
       "      <td>-52.230533</td>\n",
       "      <td>0.947578</td>\n",
       "      <td>...</td>\n",
       "      <td>7.322141</td>\n",
       "      <td>5.859753</td>\n",
       "      <td>9.708198</td>\n",
       "      <td>0.396412</td>\n",
       "      <td>0.656759</td>\n",
       "      <td>13.454125</td>\n",
       "      <td>0.152759</td>\n",
       "      <td>3.0</td>\n",
       "      <td>3.0</td>\n",
       "      <td>3.0</td>\n",
       "    </tr>\n",
       "  </tbody>\n",
       "</table>\n",
       "<p>9 rows × 23 columns</p>\n",
       "</div>"
      ],
      "text/plain": [
       "     Company  Year  Total Revenue  Net Income  Total Assets  \\\n",
       "0      Apple  2022         365817       99803        352755   \n",
       "1      Apple  2023         394328       96995        352583   \n",
       "2      Apple  2024         383285       93736        364980   \n",
       "3  Microsoft  2022         198270       72738        364840   \n",
       "4  Microsoft  2023         211915       72361        411976   \n",
       "5  Microsoft  2024         245122       88136        512163   \n",
       "6      Tesla  2022          81462       12587         82338   \n",
       "7      Tesla  2023          96773       14974        106618   \n",
       "8      Tesla  2024          97690        7153        122070   \n",
       "\n",
       "   Cash Flow from Operations  Total Liabilities  Revenue Growth (%)  \\\n",
       "0                     122151             302083                 NaN   \n",
       "1                     110543             290437            7.793788   \n",
       "2                     118254             308030           -2.800461   \n",
       "3                      89035             198298                 NaN   \n",
       "4                      87582             205753            6.882030   \n",
       "5                     118548             243686           15.669962   \n",
       "6                      14724              36440                 NaN   \n",
       "7                      13256              43009           18.795267   \n",
       "8                      14923              48390            0.947578   \n",
       "\n",
       "   Net Income Growth (%)  Total Revenue Growth (%)  ...  Profit Margin (%)  \\\n",
       "0                    NaN                       NaN  ...          27.282220   \n",
       "1              -2.813543                  7.793788  ...          24.597543   \n",
       "2              -3.359967                 -2.800461  ...          24.455953   \n",
       "3                    NaN                       NaN  ...          36.686337   \n",
       "4              -0.518299                  6.882030  ...          34.146238   \n",
       "5              21.800417                 15.669962  ...          35.955973   \n",
       "6                    NaN                       NaN  ...          15.451376   \n",
       "7              18.964010                 18.795267  ...          15.473324   \n",
       "8             -52.230533                  0.947578  ...           7.322141   \n",
       "\n",
       "     ROA (%)     ROE (%)  Debt-to-Asset Ratio  Debt-to-Equity Ratio  \\\n",
       "0  28.292441  196.958873             0.856354              5.961537   \n",
       "1  27.509835  156.076015             0.823741              4.673462   \n",
       "2  25.682503  164.593503             0.843964              5.408780   \n",
       "3  19.936959   43.675469             0.543520              1.190679   \n",
       "4  17.564373   35.088715             0.499430              0.997721   \n",
       "5  17.208584   32.828138             0.475798              0.907661   \n",
       "6  15.286988   27.423853             0.442566              0.793934   \n",
       "7  14.044533   23.540694             0.403393              0.676146   \n",
       "8   5.859753    9.708198             0.396412              0.656759   \n",
       "\n",
       "   Market Share (%)  Cash Flow to Revenue Ratio  Revenue Rank  Profit Rank  \\\n",
       "0         56.667581                    0.333913           1.0          1.0   \n",
       "1         56.090900                    0.280333           1.0          1.0   \n",
       "2         52.787024                    0.308528           1.0          1.0   \n",
       "3         30.713393                    0.449059           2.0          2.0   \n",
       "4         30.143695                    0.413288           2.0          2.0   \n",
       "5         33.758850                    0.483629           2.0          2.0   \n",
       "6         12.619027                    0.180747           3.0          3.0   \n",
       "7         13.765405                    0.136980           3.0          3.0   \n",
       "8         13.454125                    0.152759           3.0          3.0   \n",
       "\n",
       "   Assets Rank  \n",
       "0          2.0  \n",
       "1          2.0  \n",
       "2          2.0  \n",
       "3          1.0  \n",
       "4          1.0  \n",
       "5          1.0  \n",
       "6          3.0  \n",
       "7          3.0  \n",
       "8          3.0  \n",
       "\n",
       "[9 rows x 23 columns]"
      ]
     },
     "execution_count": 39,
     "metadata": {},
     "output_type": "execute_result"
    }
   ],
   "source": [
    "df"
   ]
  },
  {
   "cell_type": "markdown",
   "id": "7e366489",
   "metadata": {},
   "source": [
    " CAGR (Compound Annual Growth Rate)\n",
    "Objective: Measure the consistent annual growth rate over multiple years."
   ]
  },
  {
   "cell_type": "code",
   "execution_count": 31,
   "id": "360cea8b",
   "metadata": {},
   "outputs": [
    {
     "name": "stdout",
     "output_type": "stream",
     "text": [
      "     Company  Total Revenue CAGR (%)  Net Income CAGR (%)  \\\n",
      "0      Apple                2.359692            -3.087140   \n",
      "1  Microsoft               11.189209            10.076849   \n",
      "2      Tesla                9.508422           -24.615337   \n",
      "\n",
      "   Total Assets CAGR (%)  Total Liabilities CAGR (%)  \\\n",
      "0               1.718031                    0.979535   \n",
      "1              18.482136                   10.855213   \n",
      "2              21.759909                   15.236120   \n",
      "\n",
      "   Cash Flow from Operations CAGR (%)  \n",
      "0                           -1.608087  \n",
      "1                           15.389618  \n",
      "2                            0.673499  \n"
     ]
    }
   ],
   "source": [
    "def calculate_cagr(df, metric):\n",
    "    df_cagr = df.groupby(\"Company\").apply(\n",
    "        lambda x: ((x[metric].iloc[-1] / x[metric].iloc[0]) ** (1 / (x[\"Year\"].iloc[-1] - x[\"Year\"].iloc[0])) - 1) * 100\n",
    "    ).reset_index(name=f\"{metric} CAGR (%)\")\n",
    "    return df_cagr\n",
    "\n",
    "# Calculate CAGR for all key metrics\n",
    "cagr_results = [calculate_cagr(df, metric) for metric in metrics]\n",
    "\n",
    "# Merge results\n",
    "df_cagr = cagr_results[0]\n",
    "for i in range(1, len(cagr_results)):\n",
    "    df_cagr = df_cagr.merge(cagr_results[i], on=\"Company\")\n",
    "\n",
    "print(df_cagr)"
   ]
  },
  {
   "cell_type": "code",
   "execution_count": null,
   "id": "776d6eb1",
   "metadata": {},
   "outputs": [],
   "source": []
  }
 ],
 "metadata": {
  "kernelspec": {
   "display_name": "Python 3 (ipykernel)",
   "language": "python",
   "name": "python3"
  },
  "language_info": {
   "codemirror_mode": {
    "name": "ipython",
    "version": 3
   },
   "file_extension": ".py",
   "mimetype": "text/x-python",
   "name": "python",
   "nbconvert_exporter": "python",
   "pygments_lexer": "ipython3",
   "version": "3.10.9"
  }
 },
 "nbformat": 4,
 "nbformat_minor": 5
}
